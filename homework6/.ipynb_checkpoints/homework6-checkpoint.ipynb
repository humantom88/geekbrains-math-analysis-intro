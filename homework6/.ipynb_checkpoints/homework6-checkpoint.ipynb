{
 "cells": [
  {
   "cell_type": "markdown",
   "metadata": {},
   "source": [
    "# Практическое задание. Тема \"Ряды\""
   ]
  },
  {
   "cell_type": "markdown",
   "metadata": {},
   "source": [
    "## Задание 1"
   ]
  },
  {
   "cell_type": "markdown",
   "metadata": {},
   "source": [
    "Исследовать ряд на сходимость, используя признак д’Аламбера:\n",
    "$$\\sum_{n=1}^{\\infty} \\frac{n^n}{(n!)^2}$$"
   ]
  },
  {
   "cell_type": "markdown",
   "metadata": {},
   "source": [
    "### Решение"
   ]
  },
  {
   "cell_type": "markdown",
   "metadata": {},
   "source": [
    "$$\\lim_{n\\to\\infty}|\\frac{\\frac{(n+1)^{n+1}}{((n+1)!)^2}}{\\frac{n^n}{(n!)^2}}|=\\lim_{n\\to\\infty}=|\\frac{(n+1)^{n+1}(n!)^2}{(n+1)^2(n!)^2n^n}|=\\lim_{n\\to\\infty}=|\\frac{(n+1)^n}{(n+1)n^n}|=\\lim_{n\\to\\infty}|(1+\\frac{1}{n})^n\\frac{1}{(n+1)}|=e\\lim_{n\\to\\infty}{\\frac{1}{n+1}}= e\\cdot 0 = 0 < 1$$\n",
    "\n",
    "Ряд сходится"
   ]
  },
  {
   "cell_type": "markdown",
   "metadata": {},
   "source": [
    "## Задание 2"
   ]
  },
  {
   "cell_type": "markdown",
   "metadata": {},
   "source": [
    "Исследовать ряд на сходимость, используя радикальный признак Коши:\n",
    "$$\\sum_{n=1}^{\\infty} \\frac{n}{2^n}$$"
   ]
  },
  {
   "cell_type": "markdown",
   "metadata": {},
   "source": [
    "### Решение"
   ]
  },
  {
   "cell_type": "markdown",
   "metadata": {},
   "source": [
    "$$\\lim_{n\\to\\infty}\\frac{n}{2^n}=\\lim_{n\\to\\infty}\\sqrt[n]{\\frac{n}{2^n}}=\\lim_{n\\to\\infty} \\frac{\\sqrt[n]{n}}{\\sqrt[n]{2^n}}=\\lim_{n\\to\\infty} \\frac{n^{\\frac{1}{n}}}{|2|}=\\lim_{n\\to\\infty} \\frac{n^{\\frac{1}{n}}}{|2|}$=\\lim_{n\\to\\infty} \\frac{\\frac{1}{n}\\ln{n}}{\\ln{2}}=\\lim_{n\\to\\infty} \\frac{1}{n} \\frac{1}{\\log_n{2}}=0 < 1$$"
   ]
  },
  {
   "cell_type": "markdown",
   "metadata": {},
   "source": [
    "Ряд сходится"
   ]
  },
  {
   "cell_type": "markdown",
   "metadata": {},
   "source": [
    "## Задание 3"
   ]
  },
  {
   "cell_type": "markdown",
   "metadata": {},
   "source": [
    "Исследовать ряд на сходимость, используя признак Лейбница:\n",
    "$$\\sum_{n=1}^{\\infty} \\frac{(-1)^n}{n + \\ln{n}}$$"
   ]
  },
  {
   "cell_type": "markdown",
   "metadata": {},
   "source": [
    "### Решение"
   ]
  },
  {
   "cell_type": "markdown",
   "metadata": {},
   "source": [
    "$$\\lim_{n\\to\\infty} |\\frac{(-1)^n}{n + \\ln{n}}|=\\lim_{n\\to\\infty} \\frac{|(-1)^n|}{|n + \\ln{n}|}=\\lim_{n\\to\\infty} \\frac{1}{1 + \\frac{\\ln{n}}{n}|=1}$$"
   ]
  },
  {
   "cell_type": "markdown",
   "metadata": {},
   "source": [
    "Проверка в Wolfram alpha показала, что $\\frac{\\ln{n}}{n}=0 \\implies lim \\neq 0$\n",
    "\n",
    "Ряд расходится"
   ]
  },
  {
   "cell_type": "markdown",
   "metadata": {},
   "source": [
    "## Задание 4"
   ]
  },
  {
   "cell_type": "markdown",
   "metadata": {},
   "source": [
    "Исследовать ряд на сходимость, используя признак Раабе:\n",
    "$$\\sum_{n=1}^{\\infty} \\frac{3^n}{2^n}$$"
   ]
  },
  {
   "cell_type": "markdown",
   "metadata": {},
   "source": [
    "### Решение"
   ]
  },
  {
   "cell_type": "markdown",
   "metadata": {},
   "source": [
    "$$\\lim_{n\\to\\infty} n(\\frac{3^n 2^{n+1}}{2^n 3^{n+1}}-1)=\\lim_{n\\to\\infty} n(\\frac{2\\cdot3^n 2^n}{3\\cdot2^n 3^n} - 1)=\\lim_{n\\to\\infty} -\\frac{1}{3}n = -\\infty < 1$$Ряд расходится"
   ]
  },
  {
   "cell_type": "markdown",
   "metadata": {},
   "source": [
    "## Задание 5"
   ]
  },
  {
   "cell_type": "markdown",
   "metadata": {},
   "source": [
    "Разложить функцию по Тейлору в единице:\n",
    "$$f(x)=\\ln{(16x^2)}$$"
   ]
  },
  {
   "cell_type": "markdown",
   "metadata": {},
   "source": [
    "### Решение"
   ]
  },
  {
   "cell_type": "markdown",
   "metadata": {},
   "source": [
    "$$\\sum_{n=0}^{1}\\frac{f^{(n)}(a)}{n!}(x - a)^n=1 + \\frac{\\frac{32\\cdot1}{1}}{1}(x - 1)=32x - 31$$"
   ]
  },
  {
   "cell_type": "markdown",
   "metadata": {},
   "source": [
    "## Задание 6*"
   ]
  },
  {
   "cell_type": "markdown",
   "metadata": {},
   "source": [
    "Дана функция $f(x)=x^2$\n",
    "\n",
    "a) Разложить функцию в ряд Фурье по косинусам на отрезке $x\\in{[-2;0]}$\n",
    "\n",
    "b) Построить график функции и ее разложения"
   ]
  },
  {
   "cell_type": "markdown",
   "metadata": {},
   "source": [
    "### Решение"
   ]
  },
  {
   "cell_type": "markdown",
   "metadata": {},
   "source": [
    "$$f(x)=\\frac{a_0}{2}+\\sum_{n=0}^{\\infty} (a_n cos(nx) + b_n sin(nx))$$"
   ]
  },
  {
   "cell_type": "markdown",
   "metadata": {},
   "source": [
    "$f(x)=x^2$ - четная функция, следовательно она раскладывается только по косинусам"
   ]
  },
  {
   "cell_type": "markdown",
   "metadata": {},
   "source": [
    "Коэффициенты в общем виде\n",
    "$$\n",
    "a_0=\\frac{1}{\\pi} \\int_{-\\pi}^{\\pi} f(x)dx \\\\\n",
    "a_n=\\frac{1}{\\pi} \\int_{-\\pi}^{\\pi} f(x)cos(nx)dx\n",
    "$$"
   ]
  },
  {
   "cell_type": "markdown",
   "metadata": {},
   "source": [
    "Рассчитываем коэффициенты\n",
    "$$\n",
    "a_0 = \\frac{1}{\\pi} \\int_{-2}^{0} x^2dx = \\frac{1}{\\pi} \\cdot -\\frac{8}{3} = -\\frac{8}{3\\pi}\n",
    "$$"
   ]
  },
  {
   "cell_type": "markdown",
   "metadata": {},
   "source": [
    "$$a_n=\\frac{1}{\\pi}\\int_{-2}^{0} x^2cos(nx)dx = \\frac{1}{\\pi}(\\frac{4sin(-2n)}{n} + \\int_{-2}^{0} \\frac{sin nx}{n}2xdx)$$\n",
    "\n",
    "$$\n",
    "\\begin{cases}\n",
    "U = x^2; dV = cos(nx)dx; \\\\\n",
    "V = - \\frac{sin nx}{n}; dU = 2xdx;\n",
    "\\end{cases}\n",
    "$$"
   ]
  },
  {
   "cell_type": "markdown",
   "metadata": {},
   "source": [
    "$$\n",
    "a_n = \\frac{1}{\\pi}(\\frac{4sin(-2n)}{n} + (0 - \\frac{4sin(-2n)}{n})) = 0\n",
    "$$"
   ]
  },
  {
   "cell_type": "markdown",
   "metadata": {},
   "source": [
    "# Практическое задание. Тема \"Понятие об интеграле\""
   ]
  },
  {
   "cell_type": "markdown",
   "metadata": {},
   "source": [
    "## Задание 1"
   ]
  },
  {
   "cell_type": "markdown",
   "metadata": {},
   "source": [
    "Найти неопределенный интеграл\n",
    "$$\\int (2x^2 -2x - 1 + sin(x) - cos(x) + \\ln{x} + e^x)dx$$"
   ]
  },
  {
   "cell_type": "markdown",
   "metadata": {},
   "source": [
    "### Решение"
   ]
  },
  {
   "cell_type": "markdown",
   "metadata": {},
   "source": [
    "$\n",
    "\\frac{2}{3}x^3 - x^2 - x + cosx - sinx + xlnx - x + e^x\n",
    "$"
   ]
  },
  {
   "cell_type": "markdown",
   "metadata": {},
   "source": [
    "## Задание 2"
   ]
  },
  {
   "cell_type": "markdown",
   "metadata": {},
   "source": [
    "Найти неопределенный интеграл\n",
    "$$\\int (2x +6xz^2 - 5x^2y - 3\\ln{z})dx$$"
   ]
  },
  {
   "cell_type": "markdown",
   "metadata": {},
   "source": [
    "### Решение"
   ]
  },
  {
   "cell_type": "markdown",
   "metadata": {},
   "source": [
    "$\n",
    "\\frac{2}{3}x^3 + 3z^2x^2 - \\frac{5}{3}yx^3 - 3\\ln(z)x\n",
    "$"
   ]
  },
  {
   "cell_type": "markdown",
   "metadata": {},
   "source": [
    "## Задание 3"
   ]
  },
  {
   "cell_type": "markdown",
   "metadata": {},
   "source": [
    "Вычислить определенный интеграл:\n",
    "$$\\int_{0}^{\\pi} 3x^2sin(2x)dx$$"
   ]
  },
  {
   "cell_type": "markdown",
   "metadata": {},
   "source": [
    "### Решение"
   ]
  },
  {
   "cell_type": "markdown",
   "metadata": {},
   "source": [
    "$$\n",
    "\\begin{cases}\n",
    "U = 3x^2; dV = sin(2x)dx; \\\\\n",
    "V = \\frac{cos(2x)}{2}; dU = 6x\n",
    "\\end{cases}\n",
    "$$\n",
    "\n",
    "$$\\int_{0}^{\\pi} 3x^2sin(2x)dx = \\frac{3x^2cos(2x)}{2} - 3xcos(2x) = \\frac{3\\pi^2}{2} - 3\\pi$$"
   ]
  },
  {
   "cell_type": "markdown",
   "metadata": {},
   "source": [
    "## Задание 4"
   ]
  },
  {
   "cell_type": "markdown",
   "metadata": {},
   "source": [
    "Найти неопределенный интеграл\n",
    "$$\\int \\frac{1}{\\sqrt{x+1}}dx$$"
   ]
  },
  {
   "cell_type": "markdown",
   "metadata": {},
   "source": [
    "### Решение:"
   ]
  },
  {
   "cell_type": "markdown",
   "metadata": {},
   "source": [
    "$\\frac{(x+1)^{-\\frac{3}{2}}}{-\\frac{3}{2}}=-\\frac{2}{3\\sqrt{(x + 1)^3}}$"
   ]
  }
 ],
 "metadata": {
  "kernelspec": {
   "display_name": "Python 3",
   "language": "python",
   "name": "python3"
  },
  "language_info": {
   "codemirror_mode": {
    "name": "ipython",
    "version": 3
   },
   "file_extension": ".py",
   "mimetype": "text/x-python",
   "name": "python",
   "nbconvert_exporter": "python",
   "pygments_lexer": "ipython3",
   "version": "3.8.2"
  }
 },
 "nbformat": 4,
 "nbformat_minor": 4
}
