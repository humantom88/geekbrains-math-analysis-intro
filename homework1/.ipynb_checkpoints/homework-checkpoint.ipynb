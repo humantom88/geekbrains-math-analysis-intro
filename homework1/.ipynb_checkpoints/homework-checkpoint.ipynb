{
 "cells": [
  {
   "cell_type": "markdown",
   "metadata": {},
   "source": []
  },
  {
   "cell_type": "markdown",
   "metadata": {},
   "source": [
    "# Тема \"Введение в математический анализ\""
   ]
  },
  {
   "cell_type": "markdown",
   "metadata": {},
   "source": [
    "## Задание 1"
   ]
  },
  {
   "cell_type": "markdown",
   "metadata": {},
   "source": [
    "Как относятся друг к другу множество и последовательность? (в ответе использовать слова типа: часть, целое, общее, частное, родитель, дочерний субъект и т.д.)"
   ]
  },
  {
   "cell_type": "markdown",
   "metadata": {},
   "source": [
    "### Ответ \n",
    "\n",
    "последовательность это дочерний субъект по отношению к множеству"
   ]
  },
  {
   "cell_type": "markdown",
   "metadata": {},
   "source": [
    "## Задание 2\n",
    "\n"
   ]
  },
  {
   "cell_type": "markdown",
   "metadata": {},
   "source": [
    "Прочитать высказывания математической логики, построить их отрицания и установить истинность"
   ]
  },
  {
   "cell_type": "markdown",
   "metadata": {},
   "source": [
    "$$\n",
    "\\forall y \\in [0; 1]: sgn(y) = 1 \\\\\n",
    "\\forall n \\in N > 2 : \\exists x, y, z \\in N : x^n = y^n + z^n \\\\\n",
    "\\forall x \\in R \\exists X \\in R : X > x \\\\\n",
    "\\forall x \\in C \\nexists y \\in C : x > y || x < y \\\\\n",
    "\\forall y \\in [0; \\frac{\\pi}{2}] \\exists \\epsilon > 0 : sin y < sin(y + \\epsilon) \\\\\n",
    "\\forall y \\in [0; \\pi] \\exists \\epsilon > 0 : cos y > cos(y + \\epsilon) \\\\\n",
    "\\exists x : x \\notin \\{ N, Z, Q, R, C\\}\n",
    "$$"
   ]
  },
  {
   "cell_type": "markdown",
   "metadata": {},
   "source": [
    "### Решение"
   ]
  },
  {
   "cell_type": "markdown",
   "metadata": {},
   "source": [
    "1. $\\forall y \\in [0; 1]: sgn(y) = 1\\forall y \\in [0; 1]: sgn(y) = 1$ -> для любых $y$ из интервала \\[0; 1\\] функция $sgn(y)$ равна 1\n",
    "\n",
    "2. $\\forall n \\in N > 2 : \\exists x, y, z \\in N : x^n = y^n + z^n$ -> Для n принадлежащих множеству натуральных чисел больших двух существуют натуральные x, y и z, такие, что $x^n = y^n + z^n$\n",
    "\n",
    "3. $\\forall x \\in R \\exists X \\in R : X > x$ -> Для любых $x$ из множества действительных чисел существует действительное $X$, такое, что $X$ больше $x$\n",
    "\n",
    "4. $\\forall x \\in C \\nexists y \\in C : x > y \\| x < y$ -> Для любого $x$ из множества комплексных чисел не существует комплексного $y$, такого, что $x > y$ или $x < y$\n",
    "\n",
    "5. $\\forall y \\in [0; \\frac{\\pi}{2}] \\exists \\epsilon > 0 : sin y < sin(y + \\epsilon$ -> Для любого $y$ из интервала $[0; \\frac{\\pi}{2}]$ существует положительное $\\epsilon$: такое что выполняется $sin y < sin(y + \\epsilon)$\n",
    "\n",
    "6. $\\forall y \\in [0; \\pi] \\exists \\epsilon > 0 : cos y > cos(y + \\epsilon)$ -> Для любого $y$ из интервала $[0; \\pi]$ существует $\\epsilon$ такое, что $cosy > cos(y + \\epsilon)$\n",
    "\n",
    "7. $\\exists x : x \\notin \\{ N, Z, Q, R, C\\}$ -> Существует x: такое, что оно не входит во множества целых, рациональных, вещественных и комплексных чисел"
   ]
  },
  {
   "cell_type": "markdown",
   "metadata": {},
   "source": [
    "Отрицание выражений:\n",
    "\n",
    "1. $\\forall y \\in [0; 1]: sgn(y) = 1\\forall y \\in [0; 1]: sgn(y) = 1$ => False\n",
    "\n",
    "$$\\exists x \\in [0; 1] : sgn(x) \\neq 1 $$ \n",
    "\n",
    "---\n",
    "\n",
    "2. $\\forall n \\in N > 2 : \\exists x, y, z \\in N : x^n = y^n + z^n$ => False\n",
    "$$\\exists n \\in N > 2 : \\forall x, y, z \\in N : x^2 \\neq y^2 + z^2 $$\n",
    "\n",
    "---\n",
    "3. $\\forall x \\in R \\exists X \\in R : X > x$ => True\n",
    "$$\\exists x \\in R\\forall X \\in R : X < x$$ \n",
    "\n",
    "---\n",
    "4. $\\forall x \\in C \\nexists y \\in C : x > y \\| x < y$ => True \n",
    "$$\\exists x, y \\in C : x < y \\| x > y$$\n",
    "\n",
    "---\n",
    "5. $\\forall y \\in [0; \\frac{\\pi}{2}] \\exists \\epsilon > 0 : sin y < sin(y + \\epsilon$ => False\n",
    "\n",
    "$$\\exists y \\in [0; \\frac{\\pi}{2}] \\forall \\epsilon > 0 : sin y > sin (y + \\epsilon)$$\n",
    "\n",
    "---\n",
    "6. $\\forall y \\in [0; \\pi] \\exists \\epsilon > 0 : cos y > cos(y + \\epsilon)$ => True\n",
    "\n",
    "$$\\exists y \\in [0; \\pi] \\forall \\epsilon > 0 : cos y < cos (y + \\epsilon)$$\n",
    "\n",
    "---\n",
    "7. $\\exists x : x \\notin \\{ N, Z, Q, R, C\\}$ => True\n",
    "\n",
    "$$\\forall x : x \\in \\{N, Z, Q, R, C\\}$$"
   ]
  },
  {
   "cell_type": "markdown",
   "metadata": {},
   "source": [
    "## Задание 3"
   ]
  },
  {
   "cell_type": "markdown",
   "metadata": {},
   "source": [
    "Даны три множества a,b и с. Необходимо выполнить все изученные виды бинарных операций над всеми комбинациями множеств.\n",
    "\n",
    "Выполнить задание 1 на языке Python"
   ]
  },
  {
   "cell_type": "code",
   "execution_count": 12,
   "metadata": {
    "tags": []
   },
   "outputs": [
    {
     "name": "stdout",
     "output_type": "stream",
     "text": [
      "[{'0', '5', '9', '6', '7', '8', '1', '4', '3', '2'},\n",
      " {'5', '8', '4'},\n",
      " {'0', '2', '1', '3'},\n",
      " {'9', '6', '7'},\n",
      " {'0', '9', '6', '7', '1', '3', '2'},\n",
      " {'3', '8', '1', '4', '0', '5', '2'},\n",
      " set(),\n",
      " {'3', '8', '1', '4', '0', '5', '2'},\n",
      " set(),\n",
      " {'0', '5', '8', '1', '4', '3', '2'}]\n"
     ]
    }
   ],
   "source": [
    "from pprint import pprint\n",
    "\n",
    "a = set('1234580')\n",
    "b = set('456789')\n",
    "c = set('')\n",
    "a_union_b = a.union(b)\n",
    "a_intersection_b = a.intersection(b)\n",
    "a_difference_b = a.difference(b)\n",
    "b_difference_a = b.difference(a)\n",
    "a_symmetric_diff_b = a.symmetric_difference(b)\n",
    "a_union_c = a.union(c)\n",
    "a_intersection_c = a.intersection(c)\n",
    "a_difference_c = a.difference(c)\n",
    "c_difference_a = c.difference(a)\n",
    "a_symmetric_diff_c = a.symmetric_difference(c)\n",
    "\n",
    "pprint([\n",
    "    a_union_b,\n",
    "    a_intersection_b,\n",
    "    a_difference_b,\n",
    "    b_difference_a,\n",
    "    a_symmetric_diff_b,\n",
    "    a_union_c,\n",
    "    a_intersection_c,\n",
    "    a_difference_c,\n",
    "    c_difference_a,\n",
    "    a_symmetric_diff_c\n",
    "])\n"
   ]
  },
  {
   "cell_type": "markdown",
   "metadata": {},
   "source": [
    "## Задание 4\n",
    "\n",
    "Даны 4 последовательности. Необходимо:\n",
    "\n",
    "    - исследовать их на монотонность\n",
    "\n",
    "    - исследовать на ограниченность\n",
    "    \n",
    "    - найти пятый по счету член\n"
   ]
  },
  {
   "cell_type": "markdown",
   "metadata": {},
   "source": [
    "Последовательность:\n",
    "$\\{a_n\\}^\\infty _{n=1}=2^n - n $\n",
    "\n",
    "Монотонность:\n",
    "$a_n - a_{n+1} = 2^n - n - 2^{(n+1)} + n + 1 = 1 - 2^n < 0 [1; \\infty) \\implies возрастающая $\n",
    "\n",
    "Ограниченность:\n",
    "$[1; -\\infty]$ \n",
    "\n",
    "n = 5:\n",
    "27\n",
    "\n",
    "---\n",
    "Последовательность:\n",
    "$\\{b_n\\}^\\infty _{n=2}=\\frac{1}{1-n}$\n",
    "\n",
    "Монотонность:\n",
    "$b_n - b_{n+1} = \\frac{1}{1 - n} - \\frac{1}{1 - (n + 1)} = \\frac{1}{1 - n} + \\frac{1}{n} = \\frac{n + 1 - n}{n - n^2} = \\frac{1}{n(1 - n)} < 0 [2; \\infty) \\implies возрастающая $\n",
    "\n",
    "Ограниченность:\n",
    "$[-0.5; 0]$\n",
    "\n",
    "n = 5:\n",
    "$-\\frac{1}{4}$\n",
    "\n",
    "---\n",
    "Последовательность:\n",
    "$\\{c_n\\}^\\infty _{n=1}=-1^n + \\sqrt{2n} $\n",
    "\n",
    "Монотонность:\n",
    "$c_n - c_{n+1} = -1^n + \\sqrt{2n} -1^{(n + 2)} + \\sqrt{2(n + 1)} = 2\\cdot (-1^n) + \\sqrt{2n} + \\sqrt{2(n + 1)} = 2 ((-1)^n + \\frac{1}{\\sqrt{2}}(\\sqrt{n} + \\sqrt{n + 1})) > 0 \\implies убывающая $\n",
    "\n",
    "Ограниченность:\n",
    "$ [-\\infty; \\infty] $\n",
    "\n",
    "n = 5:\n",
    "$-1 + \\sqrt{10}$\n",
    "\n",
    "---\n",
    "Последовательность:\n",
    "$\\{d_n\\}^\\infty _{n=1}=(-1)^{2n} + \\frac{1}{n^2}$\n",
    "\n",
    "Монотонность:\n",
    "$ d_n - d_{n + 1} = (-1)^{2n} + \\frac{1}{n^2} + (-1)^{2n + 2} - \\frac{1}{(n + 1)^2} = 2\\cdot(-1)^{2n} + \\frac{1}{n^2} - \\frac{1}{(n + 1)^2} = 2 + \\frac{1}{n^2} - \\frac{1}{(n + 1)^2} \\implies убывающая $\n",
    "\n",
    "Ограниченность:\n",
    "$ [1; 2] $\n",
    "\n",
    "n = 5:\n",
    "$ 1\\frac{1}{25}$\n"
   ]
  },
  {
   "cell_type": "markdown",
   "metadata": {},
   "source": [
    "## Задание 5\n",
    "\n"
   ]
  },
  {
   "cell_type": "markdown",
   "metadata": {},
   "source": [
    "Найти 12-й член заданной неявно последовательности\n",
    "\n",
    "## Решение\n",
    "\n",
    "$$\n",
    "a_1 = 128; a_{n+1} - a_{n} = 6\n",
    "\\implies\n",
    "a_2 = a_1 + 6\n",
    "\\implies\n",
    "a_{12} = a_1 + 6 \\cdot 12 = 72 + 128 = 200\n",
    "$$"
   ]
  },
  {
   "cell_type": "markdown",
   "metadata": {},
   "source": [
    "## Задание 6\n",
    "\n",
    "На языке Python предложить алгоритм вычисляющий численно предел с точностью $\\epsilon = 10^{-7}$\n",
    "\n",
    "$$\n",
    "    \\lim_{n-> =\\infty}{\\frac{n}{\\sqrt(n!)}}\n",
    "$$\n"
   ]
  },
  {
   "cell_type": "markdown",
   "metadata": {},
   "source": [
    "## Задание 7\n",
    "\n",
    "*Предложить оптимизацию алгоритма, полученного в задании 3, ускоряющую его сходимость."
   ]
  },
  {
   "cell_type": "code",
   "execution_count": null,
   "metadata": {},
   "outputs": [],
   "source": []
  }
 ],
 "metadata": {
  "kernelspec": {
   "display_name": "Python 3",
   "language": "python",
   "name": "python3"
  },
  "language_info": {
   "codemirror_mode": {
    "name": "ipython",
    "version": 3
   },
   "file_extension": ".py",
   "mimetype": "text/x-python",
   "name": "python",
   "nbconvert_exporter": "python",
   "pygments_lexer": "ipython3",
   "version": "3.8.2"
  }
 },
 "nbformat": 4,
 "nbformat_minor": 4
}
