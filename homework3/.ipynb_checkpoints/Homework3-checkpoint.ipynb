{
 "cells": [
  {
   "cell_type": "markdown",
   "metadata": {},
   "source": [
    "# Практическое задание по теме \"Понятие о производной\""
   ]
  },
  {
   "cell_type": "markdown",
   "metadata": {},
   "source": [
    "## Задание 1\n",
    "\n",
    "Найти производную выражения\n"
   ]
  },
  {
   "cell_type": "markdown",
   "metadata": {},
   "source": [
    "a. $sinx \\cdot cosx$"
   ]
  },
  {
   "cell_type": "markdown",
   "metadata": {},
   "source": [
    "### Решение:\n",
    "$sin'x cosx + sinx cos'x = cos^2x - sin^2x$"
   ]
  },
  {
   "cell_type": "markdown",
   "metadata": {},
   "source": [
    "b. $ln(2x + 1)^3$"
   ]
  },
  {
   "cell_type": "markdown",
   "metadata": {},
   "source": [
    "### Решение\n",
    "\n",
    "$(ln(2x + 1)^3)' = 2 \\cdot 3(2x + 1)^2 \\cdot \\frac{1}{(2x + 1)^3} = \\frac{6}{2x + 1}$"
   ]
  },
  {
   "cell_type": "markdown",
   "metadata": {},
   "source": [
    "c. $\\sqrt{sin^2(\\ln(x^3))}$"
   ]
  },
  {
   "cell_type": "markdown",
   "metadata": {},
   "source": [
    "### Решение\n",
    "\n",
    "$(\\sqrt{sin^2(\\ln(x^3))})' = 3x^2 \\cdot \\frac{1}{x^3} \\cdot cos(\\ln(x^3)) \\cdot 2sin(\\ln(x^3)) \\cdot \\frac{1}{2\\sqrt{sin^2(\\ln(x^3))}}=\\frac{3cos(\\ln(x^3)) \\cdot sin(\\ln(x^3))}{x\\sqrt{sin^2(\\ln(x^3))}}=\\frac{3cos(\\ln(x^3))}{x}$"
   ]
  },
  {
   "cell_type": "markdown",
   "metadata": {},
   "source": [
    "d. $\\frac{x^4}{\\ln x}$"
   ]
  },
  {
   "cell_type": "markdown",
   "metadata": {},
   "source": [
    "### Решение\n",
    "\n",
    "$\\frac{x^4}{\\ln x}= \\frac{4x^3\\ln x - \\frac{1}{x}x^4}{\\ln^2x}=\\frac{x^3(4\\ln x-1)}{\\ln^2x}$"
   ]
  },
  {
   "cell_type": "markdown",
   "metadata": {},
   "source": [
    "## Задание 2\n",
    "\n",
    "Найти выражение производной функции и ее значение в точке\n",
    "\n",
    "$f(x)=cos(x^2+3x), x_0 = \\sqrt{\\pi}$"
   ]
  },
  {
   "cell_type": "markdown",
   "metadata": {},
   "source": [
    "### Решение\n",
    "\n",
    "$f(x)=cos(x^2+3x) = cos(x^2)cos3x - sin(x^2)sin3x$\n",
    "\n",
    "$f'(x)=-2xsinx^2cos3x - 3sin3xcos(x^2) - 2xcos(x^2)sin3x - 3cos3xsin(x^2)$\n",
    "\n",
    "$f'(x)=2 \\cdot (2x + 3) \\cdot (-sin(x^2 + 3x)$\n",
    "\n",
    "$f'(\\sqrt{\\pi})=(2\\sqrt{\\pi}+ 3)(-sin(\\pi + 3\\sqrt{\\pi}))=-(2\\sqrt{\\pi}+ 3)(sin(\\pi)cos(3\\sqrt{\\pi})+cos(\\pi)sin(3\\sqrt{\\pi}))=-(2\\sqrt{\\pi} + 3)(-sin(3\\sqrt{\\pi})))=sin(3\\sqrt{\\pi})(3 + 2\\sqrt{\\pi})$"
   ]
  },
  {
   "cell_type": "markdown",
   "metadata": {},
   "source": [
    "$f'(\\sqrt{\\pi})=-2\\sqrt{\\pi}sin(\\pi)cos(3\\sqrt{\\pi})-3sin(3\\sqrt{\\pi})cos\\pi - 2\\pi cos\\pi sin3\\sqrt{\\pi} - 3cos3\\sqrt{\\pi}sin\\pi = -3sin(3\\sqrt{\\pi})cos\\pi - 2\\sqrt{\\pi} cos\\pi sin(3\\sqrt{\\pi}) = 3sin(3\\sqrt{\\pi}) + 2\\sqrt{\\pi}  sin(3\\sqrt{\\pi})=sin(3\\sqrt{\\pi})(3 + 2\\sqrt{\\pi})$"
   ]
  },
  {
   "cell_type": "markdown",
   "metadata": {},
   "source": [
    "## Задание 4\n",
    "\n",
    "Найти угол наклона касательной к графику функции в точке\n",
    "\n",
    "$f(x)=\\sqrt{3x}\\cdot\\ln x, x_0 = 1$"
   ]
  },
  {
   "cell_type": "markdown",
   "metadata": {},
   "source": [
    "### Решение\n",
    "\n",
    "$f'(x)=3 \\cdot \\frac{1}{2\\sqrt{3x}} \\cdot \\ln{x} + \\frac{1}{x}\\sqrt{3x}$\n",
    "\n",
    "$f'(1)=\\frac{3}{2\\sqrt{3}}=\\frac{\\sqrt{3}}{2}= tg{\\alpha}\\implies \\alpha = arctg\\frac{\\sqrt{3}}{2}$"
   ]
  },
  {
   "cell_type": "code",
   "execution_count": null,
   "metadata": {},
   "outputs": [],
   "source": []
  }
 ],
 "metadata": {
  "kernelspec": {
   "display_name": "Python 3",
   "language": "python",
   "name": "python3"
  },
  "language_info": {
   "codemirror_mode": {
    "name": "ipython",
    "version": 3
   },
   "file_extension": ".py",
   "mimetype": "text/x-python",
   "name": "python",
   "nbconvert_exporter": "python",
   "pygments_lexer": "ipython3",
   "version": "3.7.3"
  }
 },
 "nbformat": 4,
 "nbformat_minor": 4
}
