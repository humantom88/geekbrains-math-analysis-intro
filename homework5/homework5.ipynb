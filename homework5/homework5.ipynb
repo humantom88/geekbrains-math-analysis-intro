{
 "cells": [
  {
   "cell_type": "markdown",
   "metadata": {},
   "source": [
    "## Практическое задание по теме \"Функция нескольких переменных\" (часть 2)"
   ]
  },
  {
   "cell_type": "markdown",
   "metadata": {},
   "source": [
    "## Задание 1\n",
    "\n",
    "Исследовать функцию на условный экстремум\n",
    "\n",
    "## 1.\n",
    "\n",
    "$U=3-8x+6y$, если $x^2 + y^2 = 36$"
   ]
  },
  {
   "cell_type": "markdown",
   "metadata": {},
   "source": [
    "### Решение"
   ]
  },
  {
   "cell_type": "markdown",
   "metadata": {},
   "source": [
    "$L(\\lambda, x, y) = 3 - 8x + 6y + \\lambda(x^2 + y^2 - 36)$"
   ]
  },
  {
   "cell_type": "markdown",
   "metadata": {},
   "source": [
    "$\n",
    "\\begin{cases}\n",
    "L'_x = -8 + 2\\lambda x = 0 \\\\\n",
    "L'_y = 6 + 2\\lambda y = 0 \\\\\n",
    "L'_\\lambda = x^2 + y^2 - 36 = 0\n",
    "\\end{cases}\n",
    "\\implies\n",
    "\\begin{cases}\n",
    "x = \\frac{4}{\\lambda} \\\\\n",
    "y = -\\frac{3}{\\lambda} \\\\\n",
    "36\\lambda^2 = 25\n",
    "\\end{cases}\n",
    "\\implies\n",
    "\\begin{cases}\n",
    "x = \\frac{24}{5} \\\\\n",
    "y = - \\frac{18}{5} \\\\\n",
    "\\lambda = \\frac{5}{6}\n",
    "\\end{cases}\n",
    "$\n",
    "Взял $\\lambda = \\frac{5}{6}$"
   ]
  },
  {
   "cell_type": "markdown",
   "metadata": {},
   "source": [
    "$\n",
    "\\begin{pmatrix}\n",
    "L''_{\\lambda\\lambda} & L''_{\\lambda x} & L''_{\\lambda y} \\\\ \n",
    "L''_{x\\lambda} & L''_{xx} & L''_{xy} \\\\\n",
    "L''_{y\\lambda} & L''_{yx} & L''_{yy}\n",
    "\\end{pmatrix}\n",
    "=\n",
    "\\begin{pmatrix}\n",
    "0 & 2x & 2y \\\\\n",
    "2x & 2\\lambda & 0 \\\\\n",
    "2y & 0 & 2\\lambda\n",
    "\\end{pmatrix}\n",
    "\\implies\n",
    "\\begin{vmatrix}\n",
    "0 & 2x & 2y \\\\\n",
    "2x & 2\\lambda & 0 \\\\\n",
    "2y & 0 & 2\\lambda\n",
    "\\end{vmatrix}\n",
    "=\n",
    "0 \\cdot \n",
    "\\begin{vmatrix}\n",
    "2\\lambda & 0 \\\\\n",
    "0 & 2\\lambda\n",
    "\\end{vmatrix}\n",
    "- 2x \\cdot\n",
    "\\begin{vmatrix}\n",
    "2x & 0 \\\\\n",
    "2y & 2\\lambda\n",
    "\\end{vmatrix}\n",
    "+ 2y \\cdot\n",
    "\\begin{vmatrix}\n",
    "2x & 2\\lambda \\\\\n",
    "2y & 0\n",
    "\\end{vmatrix}\n",
    "= -8\\lambda x^2 - 8\\lambda y^2 = -8\\lambda(x^2 + y^2) < 0, при \\lambda > 0\n",
    "$"
   ]
  },
  {
   "cell_type": "markdown",
   "metadata": {},
   "source": [
    "Следовательно в точке $(\\frac{24}{5}; -\\frac{18}{5})$ минимум"
   ]
  },
  {
   "cell_type": "markdown",
   "metadata": {},
   "source": [
    "## 2.\n",
    "\n",
    "$U=2x^2+12xy+32y^2+15$, если $x^2+16y^2=64$"
   ]
  },
  {
   "cell_type": "markdown",
   "metadata": {},
   "source": [
    "### Решение"
   ]
  },
  {
   "cell_type": "markdown",
   "metadata": {},
   "source": [
    "$L(\\lambda,x,y)=2x^2+12xy+32y^2+15 + \\lambda(x^2+16y^2-64)$"
   ]
  },
  {
   "cell_type": "markdown",
   "metadata": {},
   "source": [
    "$\n",
    "\\begin{cases}\n",
    "L'_x = 4x + 12y + 2\\lambda x = 0 \\\\\n",
    "L'_y = 12x + 64y + 32\\lambda y = 0 \\\\\n",
    "L'_\\lambda = x^2+16y^2-64 = 0\n",
    "\\end{cases}\n",
    "\\implies\n",
    "$"
   ]
  },
  {
   "cell_type": "markdown",
   "metadata": {},
   "source": [
    "$\n",
    "\\begin{cases}\n",
    "\\lambda = - \\frac{6y}{x} - 2 \\\\\n",
    "12x^2 + 64yx - 32x \\cdot 6y - 64x = 0 \\\\\n",
    "x^2+16y^2-64 = 0\n",
    "\\end{cases}\n",
    "\\implies\n",
    "\\begin{cases}\n",
    "\\lambda = - \\frac{6y}{x} - 2 \\\\\n",
    "12x + 64y - 32 \\frac{6y}{x} - 64 = 0 \\\\\n",
    "x^2+16y^2-64 = 0\n",
    "\\end{cases}\n",
    "$"
   ]
  },
  {
   "cell_type": "markdown",
   "metadata": {},
   "source": [
    "$\n",
    "\\begin{pmatrix}\n",
    "L''_{\\lambda\\lambda} & L''_{\\lambda x} & L''_{\\lambda y} \\\\ \n",
    "L''_{x\\lambda} & L''_{xx} & L''_{xy} \\\\\n",
    "L''_{y\\lambda} & L''_{yx} & L''_{yy}\n",
    "\\end{pmatrix}\n",
    "=\n",
    "\\begin{pmatrix}\n",
    "0 & 2x & 32y \\\\\n",
    "2x & 4 + 2\\lambda & 12y \\\\\n",
    "32y & 12 & 64 + 32\\lambda\n",
    "\\end{pmatrix}\n",
    "\\implies\n",
    "\\begin{vmatrix}\n",
    "0 & 2x & 32y \\\\\n",
    "2x & 4 + 2\\lambda & 12y \\\\\n",
    "32y & 12 & 64 + 32\\lambda\n",
    "\\end{vmatrix}\n",
    "=\n",
    "- 2x \\cdot\n",
    "\\begin{vmatrix}\n",
    "2x & 12y \\\\\n",
    "32y & 32\\lambda\n",
    "\\end{vmatrix}\n",
    "+ 32y \\cdot\n",
    "\\begin{pmatrix}\n",
    "2x & 4 + 2\\lambda \\\\\n",
    "32y & 12\n",
    "\\end{pmatrix}\n",
    "=\n",
    "$"
   ]
  },
  {
   "cell_type": "markdown",
   "metadata": {},
   "source": [
    "$\n",
    "= -128x(\\lambda x - 6y^2) + 128y(6x - 32y - 16\\lambda y) = -128(\\lambda x^2 - 6xy^2 - 6x + 32y + 16\\lambda y)\n",
    "$"
   ]
  },
  {
   "cell_type": "code",
   "execution_count": null,
   "metadata": {},
   "outputs": [],
   "source": []
  }
 ],
 "metadata": {
  "kernelspec": {
   "display_name": "Python 3",
   "language": "python",
   "name": "python3"
  },
  "language_info": {
   "codemirror_mode": {
    "name": "ipython",
    "version": 3
   },
   "file_extension": ".py",
   "mimetype": "text/x-python",
   "name": "python",
   "nbconvert_exporter": "python",
   "pygments_lexer": "ipython3",
   "version": "3.8.2"
  }
 },
 "nbformat": 4,
 "nbformat_minor": 4
}
