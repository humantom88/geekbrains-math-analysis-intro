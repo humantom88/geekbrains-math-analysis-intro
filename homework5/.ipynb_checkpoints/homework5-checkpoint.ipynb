{
 "cells": [
  {
   "cell_type": "markdown",
   "metadata": {},
   "source": [
    "## Практическое задание по теме \"Функция нескольких переменных\" (часть 2)"
   ]
  },
  {
   "cell_type": "markdown",
   "metadata": {},
   "source": [
    "## Задание 1\n",
    "\n",
    "Исследовать функцию на условный экстремум\n",
    "\n",
    "$U=3-8x+6y$, если $x^2 + y^2 = 36$"
   ]
  },
  {
   "cell_type": "markdown",
   "metadata": {},
   "source": [
    "### Решение"
   ]
  },
  {
   "cell_type": "markdown",
   "metadata": {},
   "source": [
    "$L(\\lambda, x, y) = 3 - 8x + 6y + \\lambda(x^2 + y^2 - 36)$"
   ]
  },
  {
   "cell_type": "markdown",
   "metadata": {},
   "source": [
    "$\n",
    "\\begin{cases}\n",
    "L'_x = -8 + 2\\lambda x = 0 \\\\\n",
    "L'_y = 6 + 2\\lambda y = 0 \\\\\n",
    "L'_\\lambda = x^2 + y^2 - 36 = 0\n",
    "\\end{cases}\n",
    "\\implies\n",
    "\\begin{cases}\n",
    "x = \\frac{4}{\\lambda} \\\\\n",
    "y = -\\frac{3}{\\lambda} \\\\\n",
    "36\\lambda^2 = 25\n",
    "\\end{cases}\n",
    "\\implies\n",
    "\\begin{cases}\n",
    "x = \\pm \\frac{24}{5} \\\\\n",
    "y = \\pm \\frac{18}{5} \\\\\n",
    "\\lambda = -\\pm \\frac{5}{6}\n",
    "\\end{cases}\n",
    "$"
   ]
  },
  {
   "cell_type": "markdown",
   "metadata": {},
   "source": [
    "$\n",
    "\\begin{pmatrix}\n",
    "L''_{\\lambda\\lambda} & L''_{\\lambda x} & L''_{\\lambda y} \\\\ \n",
    "L''_{x\\lambda} & L''_{xx} & L''_{xy} \\\\\n",
    "L''_{y\\lambda} & L''_{yx} & L''_{yy}\n",
    "\\end{pmatrix}\n",
    "=\n",
    "\\begin{pmatrix}\n",
    "0 & 2x & 2y \\\\\n",
    "2x & 2\\lambda & 0 \\\\\n",
    "2y & 0 & 2\\lambda\n",
    "\\end{pmatrix}\n",
    "\\implies\n",
    "\\begin{vmatrix}\n",
    "0 & 2x & 2y \\\\\n",
    "2x & 2\\lambda & 0 \\\\\n",
    "2y & 0 & 2\\lambda\n",
    "\\end{vmatrix}\n",
    "=\n",
    "0 \\cdot \n",
    "\\begin{vmatrix}\n",
    "2\\lambda & 0 \\\\\n",
    "0 & 2\\lambda\n",
    "\\end{vmatrix}\n",
    "- 2x \\cdot\n",
    "\\begin{vmatrix}\n",
    "2x & 0 \\\\\n",
    "2y & 2\\lambda\n",
    "\\end{vmatrix}\n",
    "+ 2y \\cdot\n",
    "\\begin{vmatrix}\n",
    "2x & 2\\lambda \\\\\n",
    "2y & 0\n",
    "\\end{vmatrix}\n",
    "$"
   ]
  },
  {
   "cell_type": "markdown",
   "metadata": {},
   "source": [
    "$-8\\lambda x^2 - 8\\lambda y^2 = -8\\lambda(x^2 + y^2) < 0, при \\lambda = \\frac{5}{6}$"
   ]
  },
  {
   "cell_type": "markdown",
   "metadata": {},
   "source": [
    "Следовательно в точке $(\\frac{24}{5}; -\\frac{18}{5})$ минимум"
   ]
  },
  {
   "cell_type": "markdown",
   "metadata": {},
   "source": [
    "$-8\\lambda x^2 - 8\\lambda y^2 = -8\\lambda(x^2 + y^2) > 0, при \\lambda = -\\frac{5}{6}$"
   ]
  },
  {
   "cell_type": "markdown",
   "metadata": {},
   "source": [
    "Следовательно в точке $(-\\frac{24}{5}; \\frac{18}{5})$ максимум"
   ]
  },
  {
   "cell_type": "markdown",
   "metadata": {},
   "source": [
    "## Задание 2.\n",
    "\n",
    "Исследовать функцию на условный экстремум\n",
    "\n",
    "$U=2x^2+12xy+32y^2+15$, если $x^2+16y^2=64$"
   ]
  },
  {
   "cell_type": "markdown",
   "metadata": {},
   "source": [
    "### Решение"
   ]
  },
  {
   "cell_type": "markdown",
   "metadata": {},
   "source": [
    "\\$L(\\lambda,x,y)=2x^2+12xy+32y^2+15 + \\lambda(x^2+16y^2-64)$"
   ]
  },
  {
   "cell_type": "markdown",
   "metadata": {},
   "source": [
    "$\n",
    "\\begin{cases}\n",
    "L'_x = 4x + 12y + 2\\lambda x = 0 \\\\\n",
    "L'_y = 12x + 64y + 32\\lambda y = 0 \\\\\n",
    "L'_\\lambda = x^2+16y^2-64 = 0\n",
    "\\end{cases}\n",
    "\\implies\n",
    "\\begin{cases}\n",
    "\\lambda = - \\frac{6y}{x} - 2 \\\\\n",
    "y = - \\frac{3x}{16 + 8\\lambda} \\\\\n",
    "x^2+16y^2-64 = 0\n",
    "\\end{cases}\n",
    "\\implies\n",
    "\\begin{cases}\n",
    "\\lambda = - \\frac{6y}{x} - 2 \\\\\n",
    "4\\lambda^2 + 16\\lambda + 7 = 0 \\\\\n",
    "x^2+16y^2-64 = 0\n",
    "\\end{cases}\n",
    "$"
   ]
  },
  {
   "cell_type": "markdown",
   "metadata": {},
   "source": [
    "$\\implies\n",
    "\\begin{cases}\n",
    "\\lambda_1 = -0.5; x_1 = 1; y_1 = -\\frac{1}{4} \\\\\n",
    "\\lambda_2 = -3.5; x_2 = -1; y_2 = -\\frac{1}{4} \n",
    "\\end{cases}\n",
    "$"
   ]
  },
  {
   "cell_type": "markdown",
   "metadata": {},
   "source": [
    "$\n",
    "\\begin{pmatrix}\n",
    "L''_{\\lambda\\lambda} & L''_{\\lambda x} & L''_{\\lambda y} \\\\ \n",
    "L''_{x\\lambda} & L''_{xx} & L''_{xy} \\\\\n",
    "L''_{y\\lambda} & L''_{yx} & L''_{yy}\n",
    "\\end{pmatrix}\n",
    "=\n",
    "\\begin{pmatrix}\n",
    "0 & 2x & 32y \\\\\n",
    "2x & 4 + 2\\lambda & 12y \\\\\n",
    "32y & 12 & 64 + 32\\lambda\n",
    "\\end{pmatrix}\n",
    "\\implies\n",
    "$"
   ]
  },
  {
   "cell_type": "markdown",
   "metadata": {},
   "source": [
    "$\n",
    "\\begin{vmatrix}\n",
    "0 & 2x & 32y \\\\\n",
    "2x & 4 + 2\\lambda & 12y \\\\\n",
    "32y & 12 & 64 + 32\\lambda\n",
    "\\end{vmatrix}\n",
    "=\n",
    "- 2x \\cdot\n",
    "\\begin{vmatrix}\n",
    "2x & 12y \\\\\n",
    "32y & 64 + 32\\lambda\n",
    "\\end{vmatrix}\n",
    "+ 32y \\cdot\n",
    "\\begin{pmatrix}\n",
    "2x & 4 + 2\\lambda \\\\\n",
    "32y & 12\n",
    "\\end{pmatrix}\n",
    "=\n",
    "$"
   ]
  },
  {
   "cell_type": "markdown",
   "metadata": {},
   "source": [
    "$\n",
    "= -256x^2 - 128\\lambda - 768y^2 + 32y(24x - 128y - 64\\lambda)=\n",
    "$"
   ]
  },
  {
   "cell_type": "code",
   "execution_count": 3,
   "metadata": {},
   "outputs": [
    {
     "data": {
      "text/plain": [
       "-944.0"
      ]
     },
     "execution_count": 3,
     "metadata": {},
     "output_type": "execute_result"
    }
   ],
   "source": [
    "x1 = 1\n",
    "y1 = -0.25\n",
    "la1 = -0.5\n",
    "-256*x1**2 - 128*la1 - 768*y1**2 + 32*y1*(24* x1 - 128 * y1 - 64*la1)"
   ]
  },
  {
   "cell_type": "code",
   "execution_count": 4,
   "metadata": {},
   "outputs": [
    {
     "data": {
      "text/plain": [
       "-1712.0"
      ]
     },
     "execution_count": 4,
     "metadata": {},
     "output_type": "execute_result"
    }
   ],
   "source": [
    "x2 = -1\n",
    "y2 = -0.25\n",
    "la2 = -3.5\n",
    "-256*x2**2 - 128*la2 - 768*y2**2 + 32*y2*(24* x2 - 128 * y2 - 64*la2)"
   ]
  },
  {
   "cell_type": "markdown",
   "metadata": {},
   "source": [
    "Функция имеет два экстремума, убывает в обоих точках"
   ]
  },
  {
   "cell_type": "markdown",
   "metadata": {},
   "source": [
    "## Задание 3."
   ]
  },
  {
   "cell_type": "markdown",
   "metadata": {},
   "source": [
    "Найти производную функции $U=x^2 + y^2 + z^2$ по направлению вектора $\\stackrel{\\to}{c}(-9, 8, -12)$ в точку M(8, -12, 9)"
   ]
  },
  {
   "cell_type": "markdown",
   "metadata": {},
   "source": [
    "$grad(u)=\\frac{\\partial U}{\\partial x}\\stackrel{\\to}{i} + \\frac{\\partial U}{\\partial y}\\stackrel{\\to}{j} + \\frac{\\partial U}{\\partial z}\\stackrel{\\to}{k}$\n",
    "\n",
    "$grad(u)=2x\\stackrel{\\to}{i} + 2y\\stackrel{\\to}{j} + 2z\\stackrel{\\to}{k}$\n",
    "\n",
    "$|grad U| = \\sqrt{4x^2 + 4y^2 + 5z^2}$\n",
    "\n",
    "$|grad_M U| = \\sqrt{256 + 576 + 324} = \\sqrt{1156} = 34$\n",
    "\n",
    "$cos \\alpha = \\frac{16}{34}; cos \\beta = -\\frac{24}{34}; cos \\gamma = \\frac{18}{34}$\n",
    "\n",
    "$\\frac{\\partial U}{\\partial c}=2xcos \\alpha + 2y cos \\beta + 2z cos \\gamma$\n",
    "\n",
    "$|c| = \\sqrt{81 + 64 + 144} = 17$\n",
    "\n",
    "$cos \\alpha = -\\frac{9}{17}; cos \\beta = \\frac{8}{17}; cos \\gamma = -\\frac{12}{17}$\n",
    "\n",
    "$\\frac{\\partial U}{\\partial c}=-\\frac{16 \\cdot 9}{17} -\\frac{24 \\cdot 8}{17} - \\frac{18 \\cdot 12}{17} = -\\frac{552}{17} < 0$"
   ]
  },
  {
   "cell_type": "markdown",
   "metadata": {},
   "source": [
    "Заданная функция в направлении вектора $\\stackrel{\\to}{c}$ в точке M убывает"
   ]
  },
  {
   "cell_type": "markdown",
   "metadata": {},
   "source": [
    "## Задание 4\n",
    "\n",
    "Найти производную функции $U = e^{x^2 + y^2 + z^2}$ по направлению вектора $\\stackrel{\\to}{d}=(4, -13, -16)$ в точку $L(-16, 4, -13)$\n"
   ]
  },
  {
   "cell_type": "markdown",
   "metadata": {},
   "source": [
    "### Решение"
   ]
  },
  {
   "cell_type": "markdown",
   "metadata": {},
   "source": [
    "$grad U=2e^{x^2 + y^2 + z^2}(x\\stackrel{\\to}{i} + y\\stackrel{\\to}{j} + z\\stackrel{\\to}{k})$"
   ]
  },
  {
   "cell_type": "markdown",
   "metadata": {},
   "source": [
    "$|grad U|=\\sqrt{4e^{(x^2 + y^2 + z^2)^2}(x^2\\stackrel{\\to}{i} + y^2\\stackrel{\\to}{j} + z^2\\stackrel{\\to}{k})}$"
   ]
  },
  {
   "cell_type": "markdown",
   "metadata": {},
   "source": [
    "$|grad_L U|=42e^{441}$"
   ]
  },
  {
   "cell_type": "markdown",
   "metadata": {},
   "source": [
    "$\\frac{\\partial U}{\\partial c}=2xe^{x^2 + y^2 + z^2}cos \\alpha + 2ye^{x^2 + y^2 + z^2}cos \\beta + 2ze^{x^2 + y^2 + z^2}cos \\gamma$"
   ]
  },
  {
   "cell_type": "markdown",
   "metadata": {},
   "source": [
    "$|d|=21$\n",
    "\n",
    "$cos\\alpha=\\frac{4}{21}; cos\\beta=-\\frac{13}{21}; cos\\gamma=-\\frac{16}{21}$"
   ]
  },
  {
   "cell_type": "markdown",
   "metadata": {},
   "source": [
    "$\\frac{\\partial U}{\\partial c}=2xe^{x^2 + y^2 + z^2}\\frac{4}{21} - 2ye^{x^2 + y^2 + z^2}\\frac{13}{21} - 2ze^{x^2 + y^2 + z^2}\\frac{16}{21}$"
   ]
  },
  {
   "cell_type": "code",
   "execution_count": 16,
   "metadata": {},
   "outputs": [
    {
     "data": {
      "text/plain": [
       "2.9272852714734396e+192"
      ]
     },
     "execution_count": 16,
     "metadata": {},
     "output_type": "execute_result"
    }
   ],
   "source": [
    "import math\n",
    "\n",
    "x = -16\n",
    "y = 4\n",
    "z = -13\n",
    "\n",
    "2*x*(math.e**(x**2 + y**2 + z**2))*4/21 - 2*y*(math.e**(x**2 + y**2 + z**2))*13/21 - 2*z*(math.e**(x**2 + y**2 + z**2))*16/21"
   ]
  },
  {
   "cell_type": "markdown",
   "metadata": {},
   "source": [
    "Производная больше нуля, следовательно заданная функция в направлении вектора $\\stackrel{\\to}{d}$ в точке $M$ возрастает"
   ]
  }
 ],
 "metadata": {
  "kernelspec": {
   "display_name": "Python 3",
   "language": "python",
   "name": "python3"
  },
  "language_info": {
   "codemirror_mode": {
    "name": "ipython",
    "version": 3
   },
   "file_extension": ".py",
   "mimetype": "text/x-python",
   "name": "python",
   "nbconvert_exporter": "python",
   "pygments_lexer": "ipython3",
   "version": "3.7.3"
  }
 },
 "nbformat": 4,
 "nbformat_minor": 4
}
