{
 "cells": [
  {
   "cell_type": "markdown",
   "metadata": {},
   "source": [
    "# Практическое задание 4\n",
    "\n",
    "Тема - \"Производные функции нескольких переменных\""
   ]
  },
  {
   "cell_type": "markdown",
   "metadata": {},
   "source": [
    "## Задание 1"
   ]
  },
  {
   "cell_type": "markdown",
   "metadata": {},
   "source": [
    "Найти область определения функции\n",
    "\n",
    "$$\n",
    "z=\\sqrt{1-x^3}+\\ln{(y^2-1)}\n",
    "$$"
   ]
  },
  {
   "cell_type": "markdown",
   "metadata": {},
   "source": [
    "### Решение"
   ]
  },
  {
   "cell_type": "markdown",
   "metadata": {},
   "source": [
    "$$\n",
    "\\begin{cases}\n",
    "1 - x^3 > 0 \\\\\n",
    "y^2 - 1 < 0\n",
    "\\end{cases}\n",
    "\\implies\n",
    "\\begin{cases}\n",
    "x \\in (-\\infty; 1] \\\\\n",
    "y \\in  (-\\infty; -1)\\cup(1; \\infty)\n",
    "\\end{cases}\n",
    "$$"
   ]
  },
  {
   "cell_type": "markdown",
   "metadata": {},
   "source": [
    "## Задание 2"
   ]
  },
  {
   "cell_type": "markdown",
   "metadata": {},
   "source": [
    "Найти производные 1-го порядка функции.\n",
    " \n",
    "$$\n",
    "z = (1 + \\frac{\\ln x}{\\ln y})^3\n",
    "$$"
   ]
  },
  {
   "cell_type": "markdown",
   "metadata": {},
   "source": [
    "### Решение"
   ]
  },
  {
   "cell_type": "markdown",
   "metadata": {},
   "source": [
    "$\n",
    "z'_x=3(1+\\frac{\\ln x}{\\ln y})^2\\cdot \\frac{1}{x \\ln y} \\\\\n",
    "z'_y=3(1+\\frac{\\ln x}{\\ln y})^2\\cdot(-\\frac{\\ln x}{\\ln^2 y})\\cdot \\frac{\\ln x}{y}\n",
    "$"
   ]
  },
  {
   "cell_type": "markdown",
   "metadata": {},
   "source": [
    "## Задание 3"
   ]
  },
  {
   "cell_type": "markdown",
   "metadata": {},
   "source": [
    "Найти полный дифференциал функции в точке (1;1)\n",
    "\n",
    "$$\n",
    "z=\\sqrt{2xy + \\cos{\\frac{x}{y}}}\n",
    "$$"
   ]
  },
  {
   "cell_type": "markdown",
   "metadata": {},
   "source": [
    "### Решение"
   ]
  },
  {
   "cell_type": "markdown",
   "metadata": {},
   "source": [
    "$\n",
    "\\begin{cases}\n",
    "\\frac{\\partial z}{\\partial x} = \\frac{1}{2\\sqrt{2xy + \\cos{\\frac{x}{y}}}}(2y + \\frac{1}{y}\\sin{\\frac{x}{y}}) \\\\\n",
    "\\frac{\\partial z}{\\partial y} = \\frac{1}{2\\sqrt{2xy + \\cos{\\frac{x}{y}}}}(2x - \\frac{x}{y^2}\\sin{\\frac{x}{y}})\n",
    "\\end{cases}\n",
    "$\n",
    "\n",
    "$\n",
    "dz(1, 1) = \\frac{2 + \\sin{1}}{2\\sqrt{2 + \\cos{1}}} + \\frac{2 - \\sin{1}}{2\\sqrt{2 + \\cos{1}}}=\\frac{1}{\\sqrt{2 + \\cos{1}}}\n",
    "$"
   ]
  },
  {
   "cell_type": "markdown",
   "metadata": {},
   "source": [
    "## Задание 4"
   ]
  },
  {
   "cell_type": "markdown",
   "metadata": {},
   "source": [
    "Исследовать на экстремум функцию"
   ]
  },
  {
   "cell_type": "markdown",
   "metadata": {},
   "source": [
    "### Решение"
   ]
  },
  {
   "cell_type": "markdown",
   "metadata": {},
   "source": [
    "$z = x^2 + xy + y^2 - 6x - 9y$\n",
    "\n",
    "$\n",
    "\\begin{cases}\n",
    "z'_x = 2x + y - 6 \\\\\n",
    "z'_y = x + 2y - 9 \\\\\n",
    "z''_{xx} = 2; z''_{xy} = 1; \\\\\n",
    "z''_{yx} = 1; z''_{yy} = 2;\n",
    "\\end{cases}\n",
    "$\n",
    "\n",
    "$\n",
    "\\Delta = \\begin{bmatrix}2 & 1 \\\\ 1 & 2\\end{bmatrix} = 4 - 1 = 3 > 0 \\implies\n",
    "$ функция имеет экстремум\n",
    "\n",
    "$\n",
    "z''_{xx} = 2 > 0 \\implies\n",
    "$ экстремум является минимумом\n",
    "\n",
    "$\n",
    "\\begin{cases}\n",
    "y = 6 - 2x; \\\\\n",
    "x + 2(6 - 2x) - 9 = 0;\n",
    "\\end{cases}\n",
    "\\implies\n",
    "\\begin{cases}\n",
    "y = 4; \\\\\n",
    "x = 1;\n",
    "\\end{cases}\n",
    "\\implies\n",
    "$ минимум функции находится в точке с координатами (1, 4)"
   ]
  },
  {
   "cell_type": "code",
   "execution_count": null,
   "metadata": {},
   "outputs": [],
   "source": []
  }
 ],
 "metadata": {
  "kernelspec": {
   "display_name": "Python 3",
   "language": "python",
   "name": "python3"
  },
  "language_info": {
   "codemirror_mode": {
    "name": "ipython",
    "version": 3
   },
   "file_extension": ".py",
   "mimetype": "text/x-python",
   "name": "python",
   "nbconvert_exporter": "python",
   "pygments_lexer": "ipython3",
   "version": "3.8.2"
  }
 },
 "nbformat": 4,
 "nbformat_minor": 4
}
