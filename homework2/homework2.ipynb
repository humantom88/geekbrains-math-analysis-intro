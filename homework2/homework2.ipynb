{
 "cells": [
  {
   "cell_type": "markdown",
   "metadata": {},
   "source": [
    "# Практическое задание 2\n",
    "\n",
    "##  Тема “Предел функции”"
   ]
  },
  {
   "cell_type": "markdown",
   "metadata": {},
   "source": [
    "## Задание 1\n",
    "\n",
    "Предложить пример функции, не имеющей предела в нуле и в бесконечностях.\n",
    "\n",
    "### Решение:\n",
    "\n",
    "$$f(x) = sin(\\frac{1}{x} + x)$$"
   ]
  },
  {
   "cell_type": "markdown",
   "metadata": {},
   "source": [
    "## Задание 2\n",
    "\n",
    "Привести пример функции, не имеющей предела в точке, но определенной в ней.\n",
    "\n",
    "### Решение:\n",
    "\n",
    "$$f(x) = sin(\\frac{1}{x} + x)$$"
   ]
  },
  {
   "cell_type": "markdown",
   "metadata": {},
   "source": [
    "## Задание 3\n",
    "\n",
    "Исследовать функцию $f(x)=x^3 - x^2$ по плану:\n",
    "- Область задания и область значений.\n",
    "- Нули функции и их кратность.\n",
    "- Отрезки знакопостоянства.\n",
    "- Интервалы монотонности.\n",
    "- Четность функции.\n",
    "- Ограниченность.\n",
    "- Периодичность.\n",
    "\n",
    "### Решение\n",
    "\n",
    "Область задания и область значений: $(-\\infty; \\infty)$\n"
   ]
  },
  {
   "cell_type": "markdown",
   "metadata": {},
   "source": [
    "Нули функции: $f(x)=x^3 - x^2\\implies f(x)=x^2(x - 1)\\implies x_1 = 1, x_2 = 0$\n",
    "\n",
    "Кратность нулей функции: $f'(x)= 3x^2 - 2x\\implies f'(0)=0, f'(1)=1$. Нули функции $x_1 и x_2$ кратны\n",
    "\n",
    "Отрезки знакопостоянства: $(-\\infty; 0), (0; 1);  (1; \\infty)$\n",
    "\n",
    "Четность функции: функция общего вида\n",
    "\n",
    "Ограниченность: функция не ограничена\n",
    "\n",
    "Периодичность: функция не периодична"
   ]
  },
  {
   "cell_type": "markdown",
   "metadata": {},
   "source": [
    "## Задание 4\n",
    "\n",
    "Найти предел"
   ]
  },
  {
   "cell_type": "markdown",
   "metadata": {},
   "source": [
    "$\\lim_{x\\to0}\\frac{3x^3-2x^2}{4x^2}\\implies \\lim_{x\\to0}\\frac{3x-2}{4} = -\\frac{1}{2}$"
   ]
  },
  {
   "cell_type": "markdown",
   "metadata": {},
   "source": [
    "$\\lim_{x\\to0}\\frac{\\sqrt{1 + x} - 1}{\\sqrt[3]{1 + x} - 1}$"
   ]
  },
  {
   "cell_type": "markdown",
   "metadata": {},
   "source": [
    "# Тема \"Теоремы о пределах\"\n",
    "\n",
    "## Задание 1\n",
    "\n",
    "Найти предел\n",
    "\n",
    "a. $\\lim_{x\\to\\infty}\\frac{sin2x}{4x}\\implies \\lim_{x\\to\\infty}\\frac{2sinxcosx}{4x}\\implies \\lim_{x\\to0}\\frac{1}{2}\\frac{sinx}{x}cosx = \\frac{1}{2}$\n",
    "\n",
    "b. $\\lim_{x\\to\\infty}\\frac{x}{sinx}\\implies\\lim_{x\\to\\infty}\\frac{1}{\\frac{sinx}{x}}\\implies\\frac{1}{\\lim_{x\\to\\infty}\\frac{sinx}{x}} = 1$\n",
    "\n",
    "c. $\\lim_{x\\to\\infty}\\frac{x}{arcsinx}\\implies\\lim_{x\\to\\infty}\\frac{1}{\\frac{arcsinx}{x}}\\implies\\frac{1}{\\lim_{x\\to\\infty}\\frac{arcsinx}{x}} = 1$\n",
    "\n",
    "d. $\\lim_{x\\to\\infty}(\\frac{4x+3}{4x-3})^{6x}\\implies \\lim_{x\\to\\infty}(1 + \\frac{6}{4x-3})^{6x}\\implies \\lim_{x\\to\\infty}(1 + \\frac{1}{\\frac{4x-3}{6}})^{6x}\\implies$\n",
    "\n",
    "$\\begin{cases}\n",
    "    x_1 = \\frac{4x-3}{6} \\implies x = \\frac{6x + 3}{4} \\\\\n",
    "    \\lim_{x\\to\\infty}(1 + \\frac{1}{x_1})^{\\frac{36x + 18}{4}}\n",
    "\\end{cases}\\implies\n",
    "\\begin{cases}\n",
    "    x_1 = \\frac{6x + 3}{4} \\\\\n",
    "    \\lim_{x\\to\\infty}(1 + \\frac{1}{x_1})^{9(x_1 + 2)}\n",
    "\\end{cases}\\implies\n",
    "\\begin{cases}\n",
    "    x_1 = \\frac{6x + 3}{4} \\\\\n",
    "    \\lim_{x\\to\\infty}((1 + \\frac{1}{x_1})^{x_1})^{\\frac{9(x_1 + 2)}{x_1}}\n",
    "\\end{cases}\\implies\n",
    "\\begin{cases}\n",
    "    x_1 = \\frac{6x + 3}{4} \\\\\n",
    "    e^{9\\lim_{x\\to\\infty}{1 + \\frac{2}{x_1}}}\n",
    "\\end{cases}\\implies\n",
    "e^{9\\lim_{x\\to\\infty}{1 + \\frac{8}{6x + 3}}}\\implies\n",
    "e^9\n",
    "$"
   ]
  },
  {
   "cell_type": "markdown",
   "metadata": {},
   "source": []
  }
 ],
 "metadata": {
  "kernelspec": {
   "display_name": "Python 3",
   "language": "python",
   "name": "python3"
  },
  "language_info": {
   "codemirror_mode": {
    "name": "ipython",
    "version": 3
   },
   "file_extension": ".py",
   "mimetype": "text/x-python",
   "name": "python",
   "nbconvert_exporter": "python",
   "pygments_lexer": "ipython3",
   "version": "3.7.3"
  }
 },
 "nbformat": 4,
 "nbformat_minor": 4
}
